{
 "cells": [
  {
   "cell_type": "code",
   "execution_count": null,
   "metadata": {},
   "outputs": [],
   "source": [
    "import numpy as np\n",
    "import pandas as pd"
   ]
  },
  {
   "cell_type": "code",
   "execution_count": null,
   "metadata": {},
   "outputs": [],
   "source": [
    "# Descargar csv de Kaggle e importarlo.\n",
    "# Kaggle URL: https://www.kaggle.com/datasets/teajay/global-shark-attacks\n",
    "\n",
    "shark_attacks = pd.read_csv(r'C:\\Users\\carlo\\Labs IronHack\\Limpieza_datos\\data\\shark_attacks_data.csv',encoding='ISO-8859-1')"
   ]
  },
  {
   "attachments": {},
   "cell_type": "markdown",
   "metadata": {},
   "source": [
    "## Revision de los datos por columna"
   ]
  },
  {
   "cell_type": "code",
   "execution_count": null,
   "metadata": {},
   "outputs": [],
   "source": [
    "# comprobar cuales son las columnas tienen duplicados\n",
    "\n",
    "for i in shark_attacks:\n",
    "    print(shark_attacks[i].duplicated().any())\n",
    "    "
   ]
  },
  {
   "cell_type": "code",
   "execution_count": null,
   "metadata": {},
   "outputs": [],
   "source": [
    "# Contar las columnas que tengan nulos\n",
    "columnas_nan = shark_attacks.isna().sum()\n",
    "\n",
    "columnas_nan[columnas_nan>0]"
   ]
  },
  {
   "cell_type": "code",
   "execution_count": null,
   "metadata": {},
   "outputs": [],
   "source": [
    "# Primera revision de los datos.\n",
    "shark_attacks.info()"
   ]
  },
  {
   "cell_type": "code",
   "execution_count": null,
   "metadata": {},
   "outputs": [],
   "source": [
    "shark_attacks.head()"
   ]
  },
  {
   "attachments": {},
   "cell_type": "markdown",
   "metadata": {},
   "source": [
    "## Revision de los datos por filas. \n",
    "Eliminar las filas que tengan mas de un tercio de valores nulos.\n",
    "Estas filas no nos valen como datos reales."
   ]
  },
  {
   "cell_type": "code",
   "execution_count": null,
   "metadata": {},
   "outputs": [],
   "source": [
    "# Creo nulos_fila con todas las filas que tengan nulos y la suma de ellos (Por eso el axis=1, para que coja las filas)\n",
    "nulos_fila = shark_attacks.isnull().sum(axis=1)\n",
    "shark_attacks = shark_attacks[nulos_fila <=8] # Si la fila tiene mas de 8 nulos (1/3) la elimino."
   ]
  },
  {
   "cell_type": "code",
   "execution_count": null,
   "metadata": {},
   "outputs": [],
   "source": [
    "shark_attacks.shape"
   ]
  },
  {
   "cell_type": "code",
   "execution_count": null,
   "metadata": {},
   "outputs": [],
   "source": [
    "shark_attacks.isnull().sum()"
   ]
  },
  {
   "cell_type": "code",
   "execution_count": null,
   "metadata": {},
   "outputs": [],
   "source": [
    "# Mostrar las nuevas dimensiones del data frame.\n",
    "shark_attacks.shape"
   ]
  },
  {
   "cell_type": "code",
   "execution_count": null,
   "metadata": {},
   "outputs": [],
   "source": [
    "#Comprobar si tiene columnas duplicadas\n",
    "shark_attacks.duplicated().any()"
   ]
  },
  {
   "attachments": {},
   "cell_type": "markdown",
   "metadata": {},
   "source": [
    "## Cambiar y organizar los titulos de las columnas"
   ]
  },
  {
   "cell_type": "code",
   "execution_count": null,
   "metadata": {},
   "outputs": [],
   "source": [
    "shark_attacks.columns"
   ]
  },
  {
   "cell_type": "code",
   "execution_count": null,
   "metadata": {},
   "outputs": [],
   "source": [
    "# Quitar los espacios en los nombres y cambiarlo por '_' y cambiar nombres\n",
    "shark_attacks = shark_attacks.rename(columns={'Case Number': 'Case_number', 'Sex ': 'Sex','Fatal (Y/N)': 'Fatal','Species ': 'Species','Investigator or Source': 'Investigator_Source','href formula': 'href_formula','Case Number.1': 'Case_number1','Case Number.2': 'Case_number2','original order': 'original_order','Unnamed: 22': 'No_data1','Unnamed: 23': 'No_data2'})"
   ]
  },
  {
   "cell_type": "code",
   "execution_count": null,
   "metadata": {},
   "outputs": [],
   "source": [
    "shark_attacks.shape"
   ]
  },
  {
   "attachments": {},
   "cell_type": "markdown",
   "metadata": {},
   "source": [
    "## Rellenar los valores nulos de cada columna"
   ]
  },
  {
   "cell_type": "code",
   "execution_count": null,
   "metadata": {},
   "outputs": [],
   "source": [
    "# Como la columna 'Year' es de tipo float, quiero que los nulos me los cambie por 0. Para que no me cambie el tipo en la columna.\n",
    "shark_attacks.Year.fillna(0,inplace = True)"
   ]
  },
  {
   "cell_type": "code",
   "execution_count": null,
   "metadata": {},
   "outputs": [],
   "source": [
    "# Como la columna 'original_order' es de tipo float, quiero que los nulos me los cambie por 0. Para que no me cambie el tipo en la columna.\n",
    "shark_attacks.original_order.fillna(0,inplace = True)"
   ]
  },
  {
   "cell_type": "code",
   "execution_count": null,
   "metadata": {},
   "outputs": [],
   "source": [
    "# Relleno todos los nulos con'Noinfo'\n",
    "shark_attacks.fillna('Noinfo',inplace = True)"
   ]
  },
  {
   "cell_type": "code",
   "execution_count": null,
   "metadata": {},
   "outputs": [],
   "source": [
    "# Comprobar que ya no tengo nulos en el data frame\n",
    "sin_nulos = shark_attacks.isna().sum()\n",
    "\n",
    "sin_nulos[sin_nulos>0]"
   ]
  },
  {
   "cell_type": "code",
   "execution_count": null,
   "metadata": {},
   "outputs": [],
   "source": [
    "shark_attacks.shape"
   ]
  },
  {
   "cell_type": "code",
   "execution_count": null,
   "metadata": {},
   "outputs": [],
   "source": [
    "# La columna 'Country' cambio todos los textos a minuscula con la primera letra en mayuscula\n",
    "shark_attacks['Country'] = shark_attacks['Country'].str.lower().str.capitalize()\n",
    "shark_attacks.Country"
   ]
  },
  {
   "cell_type": "code",
   "execution_count": null,
   "metadata": {},
   "outputs": [],
   "source": [
    "# La columna 'Injury' cambio todos los textos a minuscula con la primera letra en mayuscula\n",
    "shark_attacks['Injury'] = shark_attacks['Injury'].str.lower().str.capitalize()\n",
    "shark_attacks.Injury"
   ]
  },
  {
   "cell_type": "code",
   "execution_count": null,
   "metadata": {},
   "outputs": [],
   "source": [
    "shark_attacks.shape"
   ]
  },
  {
   "attachments": {},
   "cell_type": "markdown",
   "metadata": {},
   "source": [
    "## Completar valores"
   ]
  },
  {
   "cell_type": "code",
   "execution_count": null,
   "metadata": {},
   "outputs": [],
   "source": [
    "# Cambiar de tipo float a tipo integer las fechas. Para hacer desaparecer el.0 despues de la fecha\n",
    "shark_attacks.Year = shark_attacks.Year.apply(lambda x:int(x))\n",
    "shark_attacks.Year"
   ]
  },
  {
   "cell_type": "code",
   "execution_count": null,
   "metadata": {},
   "outputs": [],
   "source": [
    "# La columna Sex solo puede M (Male) o F (Female). Printeo los valores unicos\n",
    "shark_attacks.Sex.unique()"
   ]
  },
  {
   "cell_type": "code",
   "execution_count": null,
   "metadata": {},
   "outputs": [],
   "source": [
    "# Funcion replace para cambiar los valores que no son claros por Noinfo\n",
    "shark_attacks.Sex.replace(['M ','lli','N','.'],['M','Noinfo','Noinfo','Noinfo'],inplace= True)\n",
    "shark_attacks.Sex.replace(['Noinfo'],['Sex not confirmed'],inplace= True)"
   ]
  },
  {
   "cell_type": "code",
   "execution_count": null,
   "metadata": {},
   "outputs": [],
   "source": [
    "# Ya solo hay tres valores M, F y Sex not confirmed\n",
    "shark_attacks.Sex.unique()"
   ]
  },
  {
   "cell_type": "code",
   "execution_count": null,
   "metadata": {},
   "outputs": [],
   "source": [
    "shark_attacks.Fatal.unique()"
   ]
  },
  {
   "cell_type": "code",
   "execution_count": null,
   "metadata": {},
   "outputs": [],
   "source": [
    "shark_attacks.Fatal.replace(['M','UNKNOWN','2017',' N','N ','y','Noinfo'],['Fatal not confirmed','Fatal not confirmed','Fatal not confirmed','Fatal not confirmed','Fatal not confirmed','Fatal not confirmed','Fatal not confirmed'],inplace= True)"
   ]
  },
  {
   "cell_type": "code",
   "execution_count": null,
   "metadata": {},
   "outputs": [],
   "source": [
    "# Ya solo hay tres valores N, Y y Fatal not confirmed\n",
    "shark_attacks.Fatal.unique()"
   ]
  },
  {
   "cell_type": "code",
   "execution_count": null,
   "metadata": {},
   "outputs": [],
   "source": [
    "# Compruebo los datos unicos de esta columna para tener una idea aproximada de los valores que tiene la columna\n",
    "shark_attacks.Time.unique()"
   ]
  },
  {
   "cell_type": "code",
   "execution_count": null,
   "metadata": {},
   "outputs": [],
   "source": [
    "# Hago una funcion con varias condiciones para calcular 'el momento del dia' si la fila contiene un numero.\n",
    "def calcular_hora(hour):\n",
    "    if '07' in hour or '08' in hour or '09' in hour or '10' in hour or '11' in hour or '12' in hour:\n",
    "        return 'Morning'\n",
    "    elif '13' in hour or '14' in hour or '15' in hour or '16' in hour or '17' in hour or '18' in hour or '19' in hour or '20' in hour or '21' in hour:\n",
    "        return 'Afternoon'\n",
    "    elif '22' in hour or '23' in hour or '00' in hour or '01' in hour or '02' in hour or '03' in hour or '04' in hour or '05' in hour or '06' in hour:\n",
    "        return 'Night'\n",
    "    else:\n",
    "        return 'No information'    \n",
    "\n",
    "# Aplico la funcion a la columna\n",
    "shark_attacks['Time'] = shark_attacks['Time'].apply(calcular_hora)"
   ]
  },
  {
   "cell_type": "code",
   "execution_count": null,
   "metadata": {},
   "outputs": [],
   "source": [
    "shark_attacks.Time.unique()"
   ]
  },
  {
   "cell_type": "code",
   "execution_count": null,
   "metadata": {},
   "outputs": [],
   "source": []
  },
  {
   "cell_type": "code",
   "execution_count": null,
   "metadata": {},
   "outputs": [],
   "source": []
  },
  {
   "cell_type": "code",
   "execution_count": null,
   "metadata": {},
   "outputs": [],
   "source": []
  },
  {
   "cell_type": "code",
   "execution_count": null,
   "metadata": {},
   "outputs": [],
   "source": [
    "'''# Recorrer cada fila del DataFrame y agregar el número consecutivo correspondiente\n",
    "# Cambia los numeros de mayor a menor, ya que el ataque mas nuevo es el numero mas grande.\n",
    "# n_fila = shark_attacks.shape[0]\n",
    "\n",
    "for i in range(len(shark_attacks):\n",
    "    shark_attacks.loc[i,'Case_number'] = (len(shark_attacks)) - i'''"
   ]
  },
  {
   "cell_type": "code",
   "execution_count": null,
   "metadata": {},
   "outputs": [],
   "source": [
    "'''len (shark_attacks)"
   ]
  },
  {
   "cell_type": "code",
   "execution_count": null,
   "metadata": {},
   "outputs": [],
   "source": []
  },
  {
   "cell_type": "code",
   "execution_count": null,
   "metadata": {},
   "outputs": [],
   "source": []
  },
  {
   "cell_type": "code",
   "execution_count": null,
   "metadata": {},
   "outputs": [],
   "source": []
  }
 ],
 "metadata": {
  "kernelspec": {
   "display_name": "base",
   "language": "python",
   "name": "python3"
  },
  "language_info": {
   "codemirror_mode": {
    "name": "ipython",
    "version": 3
   },
   "file_extension": ".py",
   "mimetype": "text/x-python",
   "name": "python",
   "nbconvert_exporter": "python",
   "pygments_lexer": "ipython3",
   "version": "3.9.13"
  },
  "orig_nbformat": 4
 },
 "nbformat": 4,
 "nbformat_minor": 2
}
